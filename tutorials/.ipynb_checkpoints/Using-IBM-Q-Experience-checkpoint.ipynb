{
 "cells": [
  {
   "cell_type": "markdown",
   "metadata": {},
   "source": [
    "# How to use the IBM Q Experience"
   ]
  },
  {
   "cell_type": "markdown",
   "metadata": {},
   "source": [
    "To run a quantum program, you'll either need real quantum hardware or a simulator.\n",
    "\n",
    "Qiskit has simulators bundled in which are able to quickly handle small quantum programs (up to around 20 qubits). Like the rest of Qiskit, these are provided under the [Apache License 2.0](https://github.com/Qiskit/qiskit-aqua/blob/master/LICENSE.txt).\n",
    "\n",
    "To use a real device, or a more powerful simulator, you can use the [IBM Q Experience](https://quantumexperience.ng.bluemix.net/qx) service. This requires you to set up an IBM Q Experience account, and agree to its [license agreement](https://quantumexperience.ng.bluemix.net/qx/terms). It is important to note that the IBM Q Experience is provided for testing and evaluation of your software, but not for commercial purposes\n",
    "\n",
    "To sign up, go to the [IBM Q Experience](https://quantumexperience.ng.bluemix.net/qx) website. To get your API token, go to [this page](https://quantumexperience.ng.bluemix.net/qx/account/advanced).\n",
    "\n",
    "To save this information to disk, you can then use the following comand."
   ]
  },
  {
   "cell_type": "code",
   "execution_count": null,
   "metadata": {},
   "outputs": [],
   "source": [
    "from qiskit import IBMQ\n",
    "IBMQ.save_account('MY_API_TOKEN')"
   ]
  },
  {
   "cell_type": "markdown",
   "metadata": {},
   "source": [
    "The following command then loads this information and signs in, allowing the IBM Q Experience services to be used within a Qiskit program."
   ]
  },
  {
   "cell_type": "code",
   "execution_count": 1,
   "metadata": {},
   "outputs": [],
   "source": [
    "from qiskit import IBMQ\n",
    "IBMQ.load_accounts()"
   ]
  },
  {
   "cell_type": "markdown",
   "metadata": {},
   "source": [
    "Alternatively, you can avoid saving to disk by signing in directly with your API token."
   ]
  },
  {
   "cell_type": "code",
   "execution_count": null,
   "metadata": {},
   "outputs": [],
   "source": [
    "from qiskit import IBMQ\n",
    "IBMQ.enable_account('MY_API_TOKEN')"
   ]
  },
  {
   "cell_type": "markdown",
   "metadata": {},
   "source": [
    "Note that you are not advised to enter your API key when using a cloud-based server to run your programs (such as when using Binder) as this may be insecure. "
   ]
  },
  {
   "cell_type": "markdown",
   "metadata": {},
   "source": [
    "After you'd signed up and signed in, you will be able to run quantum programs on devices that are only accessible via this service."
   ]
  },
  {
   "cell_type": "code",
   "execution_count": 2,
   "metadata": {},
   "outputs": [
    {
     "data": {
      "text/plain": [
       "[<IBMQBackend('ibmqx4') from IBMQ()>,\n",
       " <IBMQBackend('ibmq_16_melbourne') from IBMQ()>,\n",
       " <IBMQBackend('ibmq_qasm_simulator') from IBMQ()>]"
      ]
     },
     "execution_count": 2,
     "metadata": {},
     "output_type": "execute_result"
    }
   ],
   "source": [
    "IBMQ.backends()"
   ]
  },
  {
   "cell_type": "markdown",
   "metadata": {},
   "source": [
    "In the qreative tools, use `device='ibmqx4'` (also known as `'ibmq_5_tenerife'`) to use a real 5 qubit device, `device='ibmq_16_melbourne'` to use a real 14 qubit device, or `device='ibmq_qasm_simulator'` to use an HPC simulator."
   ]
  },
  {
   "cell_type": "code",
   "execution_count": 3,
   "metadata": {},
   "outputs": [
    {
     "data": {
      "text/plain": [
       "<Figure size 640x480 with 1 Axes>"
      ]
     },
     "metadata": {},
     "output_type": "display_data"
    }
   ],
   "source": [
    "import qreative\n",
    "\n",
    "result = qreative.bell_correlation('ZZ',device='ibmq_16_melbourne')\n",
    "print('    Probability of agreement =',result['P'])"
   ]
  },
  {
   "cell_type": "code",
   "execution_count": null,
   "metadata": {},
   "outputs": [],
   "source": []
  }
 ],
 "metadata": {
  "kernelspec": {
   "display_name": "Python 3",
   "language": "python",
   "name": "python3"
  },
  "language_info": {
   "codemirror_mode": {
    "name": "ipython",
    "version": 3
   },
   "file_extension": ".py",
   "mimetype": "text/x-python",
   "name": "python",
   "nbconvert_exporter": "python",
   "pygments_lexer": "ipython3",
   "version": "3.7.0"
  }
 },
 "nbformat": 4,
 "nbformat_minor": 2
}
