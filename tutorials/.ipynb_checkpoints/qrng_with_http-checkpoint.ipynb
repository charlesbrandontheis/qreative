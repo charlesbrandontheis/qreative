{
 "cells": [
  {
   "cell_type": "markdown",
   "metadata": {},
   "source": [
    "# QRNG via HTTP"
   ]
  },
  {
   "cell_type": "code",
   "execution_count": 1,
   "metadata": {},
   "outputs": [],
   "source": [
    "import json\n",
    "import requests"
   ]
  },
  {
   "cell_type": "markdown",
   "metadata": {},
   "source": [
    "Quantum random number generation is a unique application of quantum computers. Most applications need a range of custom circuits to be built and run throughout the course of an algorithm. QRNG, however, requires just one pre-defined circuit to be run whenever new random values are needed. This is therefore an application that only needs light usage of Qiskit. In fact, we can simply use Qiskit to define the initial job, and then run it via HTTP requests.\n",
    "\n",
    "This notebook shows how to do this in Python. However, it can also be done in other languages using the job specifications provided in this notebook.\n",
    "\n",
    "*Note: Results are provided according to the [IBM Q Experience EULA](https://github.com/Qiskit/qiskit-tutorials/blob/master/INSTALL.md). You are not advised to use them for cryptographic purposes.*\n",
    "\n",
    "### Setting up the job\n",
    "\n",
    "To set up the job, we need Qiskit. It is used set up a job to create 8192 random 5-bit strings on a real 5 qubit device."
   ]
  },
  {
   "cell_type": "code",
   "execution_count": 2,
   "metadata": {},
   "outputs": [],
   "source": [
    "from qiskit import QuantumRegister, ClassicalRegister\n",
    "from qiskit import QuantumCircuit, IBMQ, execute, compile\n",
    "\n",
    "IBMQ.load_accounts()\n",
    "\n",
    "q = QuantumRegister(5)\n",
    "c = ClassicalRegister(5)\n",
    "qc = QuantumCircuit(q, c)\n",
    "\n",
    "qc.h(q)\n",
    "\n",
    "qc.measure(q,c)\n",
    "\n",
    "device = 'ibmqx4'\n",
    "backend = IBMQ.get_backend(device)\n",
    "qobj = compile(qc,backend,shots=8192,memory=True)\n",
    "qobj_dict = qobj.as_dict()"
   ]
  },
  {
   "cell_type": "markdown",
   "metadata": {},
   "source": [
    "This creates a full specification of the job we want to run, known as a qobj. Here it is expressed as a Python dict."
   ]
  },
  {
   "cell_type": "code",
   "execution_count": 3,
   "metadata": {},
   "outputs": [
    {
     "name": "stdout",
     "output_type": "stream",
     "text": [
      "{'qobj_id': '593ad7b8-f9af-4c74-a888-65efda1569af', 'config': {'shots': 8192, 'memory_slots': 5, 'max_credits': 10, 'memory': True, 'n_qubits': 5}, 'experiments': [{'instructions': [{'name': 'u2', 'params': [0.0, 3.141592653589793], 'texparams': ['0', '\\\\pi'], 'qubits': [4], 'memory': []}, {'name': 'u2', 'params': [0.0, 3.141592653589793], 'texparams': ['0', '\\\\pi'], 'qubits': [3], 'memory': []}, {'name': 'u2', 'params': [0.0, 3.141592653589793], 'texparams': ['0', '\\\\pi'], 'qubits': [2], 'memory': []}, {'name': 'u2', 'params': [0.0, 3.141592653589793], 'texparams': ['0', '\\\\pi'], 'qubits': [1], 'memory': []}, {'name': 'u2', 'params': [0.0, 3.141592653589793], 'texparams': ['0', '\\\\pi'], 'qubits': [0], 'memory': []}, {'name': 'barrier', 'params': [], 'texparams': [], 'qubits': [0, 1, 2, 3, 4], 'memory': []}, {'name': 'measure', 'params': [], 'texparams': [], 'qubits': [0], 'memory': [0]}, {'name': 'measure', 'params': [], 'texparams': [], 'qubits': [1], 'memory': [1]}, {'name': 'measure', 'params': [], 'texparams': [], 'qubits': [2], 'memory': [2]}, {'name': 'measure', 'params': [], 'texparams': [], 'qubits': [3], 'memory': [3]}, {'name': 'measure', 'params': [], 'texparams': [], 'qubits': [4], 'memory': [4]}], 'header': {'n_qubits': 5, 'memory_slots': 5, 'qubit_labels': [['q', 0], ['q', 1], ['q', 2], ['q', 3], ['q', 4]], 'clbit_labels': [['c0', 0], ['c0', 1], ['c0', 2], ['c0', 3], ['c0', 4]], 'qreg_sizes': [['q', 5]], 'creg_sizes': [['c0', 5]], 'name': 'circuit0', 'compiled_circuit_qasm': 'OPENQASM 2.0;\\ninclude \"qelib1.inc\";\\nqreg q[5];\\ncreg c0[5];\\nu2(0,pi) q[4];\\nu2(0,pi) q[3];\\nu2(0,pi) q[2];\\nu2(0,pi) q[1];\\nu2(0,pi) q[0];\\nbarrier q[0],q[1],q[2],q[3],q[4];\\nmeasure q[4] -> c0[4];\\nmeasure q[3] -> c0[3];\\nmeasure q[2] -> c0[2];\\nmeasure q[1] -> c0[1];\\nmeasure q[0] -> c0[0];\\n'}, 'config': {'memory_slots': 5, 'n_qubits': 5}}], 'header': {'backend_name': 'ibmqx4'}, 'type': 'QASM', 'schema_version': '1.0.0'}\n"
     ]
    }
   ],
   "source": [
    "print(qobj_dict)"
   ]
  },
  {
   "cell_type": "markdown",
   "metadata": {},
   "source": [
    "We can also express it as a json."
   ]
  },
  {
   "cell_type": "code",
   "execution_count": 4,
   "metadata": {},
   "outputs": [
    {
     "name": "stdout",
     "output_type": "stream",
     "text": [
      "{\"qobj_id\": \"593ad7b8-f9af-4c74-a888-65efda1569af\", \"config\": {\"shots\": 8192, \"memory_slots\": 5, \"max_credits\": 10, \"memory\": true, \"n_qubits\": 5}, \"experiments\": [{\"instructions\": [{\"name\": \"u2\", \"params\": [0.0, 3.141592653589793], \"texparams\": [\"0\", \"\\\\pi\"], \"qubits\": [4], \"memory\": []}, {\"name\": \"u2\", \"params\": [0.0, 3.141592653589793], \"texparams\": [\"0\", \"\\\\pi\"], \"qubits\": [3], \"memory\": []}, {\"name\": \"u2\", \"params\": [0.0, 3.141592653589793], \"texparams\": [\"0\", \"\\\\pi\"], \"qubits\": [2], \"memory\": []}, {\"name\": \"u2\", \"params\": [0.0, 3.141592653589793], \"texparams\": [\"0\", \"\\\\pi\"], \"qubits\": [1], \"memory\": []}, {\"name\": \"u2\", \"params\": [0.0, 3.141592653589793], \"texparams\": [\"0\", \"\\\\pi\"], \"qubits\": [0], \"memory\": []}, {\"name\": \"barrier\", \"params\": [], \"texparams\": [], \"qubits\": [0, 1, 2, 3, 4], \"memory\": []}, {\"name\": \"measure\", \"params\": [], \"texparams\": [], \"qubits\": [0], \"memory\": [0]}, {\"name\": \"measure\", \"params\": [], \"texparams\": [], \"qubits\": [1], \"memory\": [1]}, {\"name\": \"measure\", \"params\": [], \"texparams\": [], \"qubits\": [2], \"memory\": [2]}, {\"name\": \"measure\", \"params\": [], \"texparams\": [], \"qubits\": [3], \"memory\": [3]}, {\"name\": \"measure\", \"params\": [], \"texparams\": [], \"qubits\": [4], \"memory\": [4]}], \"header\": {\"n_qubits\": 5, \"memory_slots\": 5, \"qubit_labels\": [[\"q\", 0], [\"q\", 1], [\"q\", 2], [\"q\", 3], [\"q\", 4]], \"clbit_labels\": [[\"c0\", 0], [\"c0\", 1], [\"c0\", 2], [\"c0\", 3], [\"c0\", 4]], \"qreg_sizes\": [[\"q\", 5]], \"creg_sizes\": [[\"c0\", 5]], \"name\": \"circuit0\", \"compiled_circuit_qasm\": \"OPENQASM 2.0;\\ninclude \\\"qelib1.inc\\\";\\nqreg q[5];\\ncreg c0[5];\\nu2(0,pi) q[4];\\nu2(0,pi) q[3];\\nu2(0,pi) q[2];\\nu2(0,pi) q[1];\\nu2(0,pi) q[0];\\nbarrier q[0],q[1],q[2],q[3],q[4];\\nmeasure q[4] -> c0[4];\\nmeasure q[3] -> c0[3];\\nmeasure q[2] -> c0[2];\\nmeasure q[1] -> c0[1];\\nmeasure q[0] -> c0[0];\\n\"}, \"config\": {\"memory_slots\": 5, \"n_qubits\": 5}}], \"header\": {\"backend_name\": \"ibmqx4\"}, \"type\": \"QASM\", \"schema_version\": \"1.0.0\"}\n"
     ]
    }
   ],
   "source": [
    "print( json.dumps(qobj_dict) )"
   ]
  },
  {
   "cell_type": "markdown",
   "metadata": {},
   "source": [
    "Either way, the qobj is used to create the data that we will send via HTTP to run the job on a quantum computer."
   ]
  },
  {
   "cell_type": "code",
   "execution_count": 5,
   "metadata": {},
   "outputs": [
    {
     "name": "stdout",
     "output_type": "stream",
     "text": [
      "{\"qObject\": {\"qobj_id\": \"593ad7b8-f9af-4c74-a888-65efda1569af\", \"config\": {\"shots\": 8192, \"memory_slots\": 5, \"max_credits\": 10, \"memory\": true, \"n_qubits\": 5}, \"experiments\": [{\"instructions\": [{\"name\": \"u2\", \"params\": [0.0, 3.141592653589793], \"texparams\": [\"0\", \"\\\\pi\"], \"qubits\": [4], \"memory\": []}, {\"name\": \"u2\", \"params\": [0.0, 3.141592653589793], \"texparams\": [\"0\", \"\\\\pi\"], \"qubits\": [3], \"memory\": []}, {\"name\": \"u2\", \"params\": [0.0, 3.141592653589793], \"texparams\": [\"0\", \"\\\\pi\"], \"qubits\": [2], \"memory\": []}, {\"name\": \"u2\", \"params\": [0.0, 3.141592653589793], \"texparams\": [\"0\", \"\\\\pi\"], \"qubits\": [1], \"memory\": []}, {\"name\": \"u2\", \"params\": [0.0, 3.141592653589793], \"texparams\": [\"0\", \"\\\\pi\"], \"qubits\": [0], \"memory\": []}, {\"name\": \"barrier\", \"params\": [], \"texparams\": [], \"qubits\": [0, 1, 2, 3, 4], \"memory\": []}, {\"name\": \"measure\", \"params\": [], \"texparams\": [], \"qubits\": [0], \"memory\": [0]}, {\"name\": \"measure\", \"params\": [], \"texparams\": [], \"qubits\": [1], \"memory\": [1]}, {\"name\": \"measure\", \"params\": [], \"texparams\": [], \"qubits\": [2], \"memory\": [2]}, {\"name\": \"measure\", \"params\": [], \"texparams\": [], \"qubits\": [3], \"memory\": [3]}, {\"name\": \"measure\", \"params\": [], \"texparams\": [], \"qubits\": [4], \"memory\": [4]}], \"header\": {\"n_qubits\": 5, \"memory_slots\": 5, \"qubit_labels\": [[\"q\", 0], [\"q\", 1], [\"q\", 2], [\"q\", 3], [\"q\", 4]], \"clbit_labels\": [[\"c0\", 0], [\"c0\", 1], [\"c0\", 2], [\"c0\", 3], [\"c0\", 4]], \"qreg_sizes\": [[\"q\", 5]], \"creg_sizes\": [[\"c0\", 5]], \"name\": \"circuit0\", \"compiled_circuit_qasm\": \"OPENQASM 2.0;\\ninclude \\\"qelib1.inc\\\";\\nqreg q[5];\\ncreg c0[5];\\nu2(0,pi) q[4];\\nu2(0,pi) q[3];\\nu2(0,pi) q[2];\\nu2(0,pi) q[1];\\nu2(0,pi) q[0];\\nbarrier q[0],q[1],q[2],q[3],q[4];\\nmeasure q[4] -> c0[4];\\nmeasure q[3] -> c0[3];\\nmeasure q[2] -> c0[2];\\nmeasure q[1] -> c0[1];\\nmeasure q[0] -> c0[0];\\n\"}, \"config\": {\"memory_slots\": 5, \"n_qubits\": 5}}], \"header\": {\"backend_name\": \"ibmqx4\"}, \"type\": \"QASM\", \"schema_version\": \"1.0.0\"}, \"backend\": {\"name\": \"ibmqx4\"}}\n"
     ]
    }
   ],
   "source": [
    "data_dict = {'qObject': qobj_dict,'backend': {'name':device}}\n",
    "data = json.dumps(data_dict)\n",
    "print(data)"
   ]
  },
  {
   "cell_type": "markdown",
   "metadata": {},
   "source": [
    "Now we have this from Qiskit, we can just copy and paste it wherever we need it. We can use it to submit this job over the cloud without using Qiskit, and even by using languages other than Python."
   ]
  },
  {
   "cell_type": "markdown",
   "metadata": {},
   "source": [
    "### Submitting the job\n",
    "\n",
    "To submit the job, you need to sign up for the IBM Q Experience and get an API token (see instructions [here](https://github.com/Qiskit/qiskit-tutorials/blob/master/INSTALL.md)). Note that the EULA requires you not to use the results you get for commercial purposes."
   ]
  },
  {
   "cell_type": "code",
   "execution_count": 6,
   "metadata": {},
   "outputs": [],
   "source": [
    "token = 'insert your API token here'"
   ]
  },
  {
   "cell_type": "markdown",
   "metadata": {},
   "source": [
    "Now we can login via HTTP using these credentials. In Python we can do this with the `requests` package. In other languages, you can use equivalent tools for sending POST requests via HTTP."
   ]
  },
  {
   "cell_type": "code",
   "execution_count": 7,
   "metadata": {},
   "outputs": [],
   "source": [
    "url = 'https://quantumexperience.ng.bluemix.net/api'\n",
    "response = requests.post(str(url + \"/users/loginWithToken\"),data={'apiToken': token})\n",
    "resp_id = response.json()['id']"
   ]
  },
  {
   "cell_type": "markdown",
   "metadata": {},
   "source": [
    "Using the ID given to us when logging in, we can set ourselves up to send the job via another POST request. The URL we use depends on the ID we were given."
   ]
  },
  {
   "cell_type": "code",
   "execution_count": 8,
   "metadata": {},
   "outputs": [],
   "source": [
    "job_url = url+'/Jobs?access_token='+resp_id"
   ]
  },
  {
   "cell_type": "markdown",
   "metadata": {},
   "source": [
    "Now we send the request, using the `data` json we created earlier."
   ]
  },
  {
   "cell_type": "code",
   "execution_count": 9,
   "metadata": {},
   "outputs": [],
   "source": [
    "job = requests.post(job_url, data=data,headers={'Content-Type': 'application/json'})"
   ]
  },
  {
   "cell_type": "markdown",
   "metadata": {},
   "source": [
    "Once submitted, we can get the job ID in order to look up the result."
   ]
  },
  {
   "cell_type": "code",
   "execution_count": 10,
   "metadata": {},
   "outputs": [],
   "source": [
    "job_id = job.json()['id']"
   ]
  },
  {
   "cell_type": "markdown",
   "metadata": {},
   "source": [
    "You'll find the results at the following URL."
   ]
  },
  {
   "cell_type": "code",
   "execution_count": 11,
   "metadata": {},
   "outputs": [],
   "source": [
    "results_url = url+'/Jobs/'+job_id+'?access_token='+resp_id"
   ]
  },
  {
   "cell_type": "markdown",
   "metadata": {},
   "source": [
    "Once the job has successfully completed, you'll be able to get the results from the above URL that contains the result. This can be downloaded as a json, or extracted programatically using your favourite language. Here's how to do it in Python. the results come out as a string of 8192 random hex values."
   ]
  },
  {
   "cell_type": "code",
   "execution_count": 12,
   "metadata": {},
   "outputs": [],
   "source": [
    "result = requests.get(results_url).json()\n",
    "random_hex = result['qObjectResult']['results'][0]['data']['memory']"
   ]
  }
 ],
 "metadata": {
  "kernelspec": {
   "display_name": "Python 3",
   "language": "python",
   "name": "python3"
  },
  "language_info": {
   "codemirror_mode": {
    "name": "ipython",
    "version": 3
   },
   "file_extension": ".py",
   "mimetype": "text/x-python",
   "name": "python",
   "nbconvert_exporter": "python",
   "pygments_lexer": "ipython3",
   "version": "3.7.0"
  }
 },
 "nbformat": 4,
 "nbformat_minor": 2
}
