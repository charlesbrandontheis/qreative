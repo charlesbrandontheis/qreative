{
 "cells": [
  {
   "cell_type": "code",
   "execution_count": 2,
   "metadata": {},
   "outputs": [],
   "source": [
    "run '../../creative.py'"
   ]
  },
  {
   "cell_type": "code",
   "execution_count": 4,
   "metadata": {
    "scrolled": false
   },
   "outputs": [
    {
     "name": "stdout",
     "output_type": "stream",
     "text": [
      "\n",
      "0 0 0 \n",
      "0 0 0 \n",
      "0 0 5 \n",
      "\n",
      "0 0 0 \n",
      "0 0 5 \n",
      "0 0 5 \n",
      "\n",
      "0 0 0 \n",
      "0 5 5 \n",
      "0 0 5 \n",
      "\n",
      "0 0 0 \n",
      "5 5 5 \n",
      "0 0 5 \n",
      "\n",
      "5 0 0 \n",
      "5 5 5 \n",
      "0 0 5 \n",
      "\n",
      "5 5 0 \n",
      "5 5 5 \n",
      "0 0 5 \n",
      "\n",
      "5 5 5 \n",
      "5 5 5 \n",
      "0 0 5 \n",
      "\n",
      "5 5 5 \n",
      "5 5 5 \n",
      "0 0 5 \n",
      "\n",
      "5 5 5 \n",
      "5 5 5 \n",
      "0 0 5 \n",
      "\n",
      "5 5 5 \n",
      "5 5 5 \n",
      "0 5 5 \n",
      "\n"
     ]
    }
   ],
   "source": [
    "L = [3,3]\n",
    "w = walker(10,L)\n",
    "starts,probs = w.get_data()\n",
    "print(\"\")\n",
    "for probs_for_sample in probs:\n",
    "    for prob in probs_for_sample:\n",
    "        for y in range(L[1]):\n",
    "            line = ''\n",
    "            for x in range(L[0]):\n",
    "                line += str(round(10*prob[x+L[1]*y])) + ' '\n",
    "            print(line)\n",
    "        print('')"
   ]
  },
  {
   "cell_type": "code",
   "execution_count": null,
   "metadata": {
    "collapsed": true
   },
   "outputs": [],
   "source": [
    "print(available_backends())"
   ]
  },
  {
   "cell_type": "code",
   "execution_count": null,
   "metadata": {
    "collapsed": true
   },
   "outputs": [],
   "source": [
    "11%5"
   ]
  },
  {
   "cell_type": "code",
   "execution_count": null,
   "metadata": {
    "collapsed": true
   },
   "outputs": [],
   "source": []
  }
 ],
 "metadata": {
  "kernelspec": {
   "display_name": "Python 3",
   "language": "python",
   "name": "python3"
  },
  "language_info": {
   "codemirror_mode": {
    "name": "ipython",
    "version": 3
   },
   "file_extension": ".py",
   "mimetype": "text/x-python",
   "name": "python",
   "nbconvert_exporter": "python",
   "pygments_lexer": "ipython3",
   "version": "3.6.0"
  }
 },
 "nbformat": 4,
 "nbformat_minor": 2
}
