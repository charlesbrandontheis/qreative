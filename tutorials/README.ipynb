{
 "cells": [
  {
   "cell_type": "code",
   "execution_count": 1,
   "metadata": {},
   "outputs": [
    {
     "data": {
      "text/markdown": [
       "# Creative Quantumness\n",
       "\n",
       "The `CreativeQiskit` package is a set of tools to use quantum computers for creative projects. It is built on the [Qiskit](https://qiskit.org) framework for quantum programming. The jobs created using `CreativeQiskit` can be run on simulators, or on IBM's prototype quantum processors.\n",
       "\n",
       "The tools are based on existing creative projects that have been made so far. They are designed to take the essential quantum part of those projects, and present them it a flexible and reusable way.\n",
       "\n",
       "## The tools and how to use them\n",
       "\n",
       "The tools of `CreativeQiskit`, and tutorials for how to use each of them, can be found in the list below.\n",
       "\n",
       "* [`bell_correlation`](bell_correlation.ipynb)\n",
       "* [`ladder`](ladder.ipynb)\n",
       "* [`layout`](layout.ipynb)\n",
       "* [`pauli_grid`](pauli_grid.ipynb)\n",
       "* [`qrng`](qrng.ipynb)\n",
       "* [`random_grid`](random_grid.ipynb)\n",
       "* The [superposers](superposers.ipynb)\n",
       "    * `bitstring_superposer`\n",
       "    * `emoticon_superposer`\n",
       "    * `image_superposer`\n",
       "    * `audio_superposer`\n",
       "* [`twobit`](.ipynb)\n",
       "\n",
       "Each tool has at least one function that executes a quantum program. These all have the same set of optional arguments, each with a default value.\n",
       "\n",
       "* `device='qasm_simulator`\n",
       "* `noisy=False`\n",
       "* `shots=1024`\n",
       "\n",
       "The `device` kwarg is a string that specifies the backend on which the program is run. The default value is a local simulator, which can run quantum programs without the need for an IBMQ account. Other possibilities are an HPC simulator (`'ibmq_qasm_simulator'`), a prototype 5 qubit device (`'ibmq_5_tenerife'`) and a prototype 14 qubit device (`'ibmq_16_melbourne'`). All of these are cloud-based resources, and do need an IBMQ account. See [here](https://github.com/Qiskit/qiskit-tutorials/blob/master/INSTALL.md) for how to register, get your API key and save it where Qiskit can find it.\n",
       "\n",
       "Current prototype devices are imperfect, and any run will encounter errors. The `noisy` kwarg determines whether this noise is also simulated when using the local simulator. The default value `False` means that no noise is simulated. Assigning this a float value, such as `noisy=0.1`, sets up a simple noise model in which the supplied value is used as the probability for certain error events occuring. If a string specifying a prototype device is supplied, such as `noisy='ibmq_16_melbourne'` the noise will mimic that experienced on the prototype device.\n",
       "\n",
       "Each quantum program can be run multiple times so that the any randomness in the output can be analyzed. The number of repetitions is given by `shots`, which takes the default value 1024 in most cases. The maxmimum value that can be given is 8192.\n"
      ],
      "text/plain": [
       "<IPython.core.display.Markdown object>"
      ]
     },
     "metadata": {},
     "output_type": "display_data"
    }
   ],
   "source": [
    "from IPython.display import display, Markdown\n",
    "with open('README.md', 'r') as readme: content = readme.read(); display(Markdown(content))"
   ]
  },
  {
   "cell_type": "code",
   "execution_count": null,
   "metadata": {},
   "outputs": [],
   "source": []
  }
 ],
 "metadata": {
  "kernelspec": {
   "display_name": "Python 3",
   "language": "python",
   "name": "python3"
  },
  "language_info": {
   "codemirror_mode": {
    "name": "ipython",
    "version": 3
   },
   "file_extension": ".py",
   "mimetype": "text/x-python",
   "name": "python",
   "nbconvert_exporter": "python",
   "pygments_lexer": "ipython3",
   "version": "3.7.0"
  }
 },
 "nbformat": 4,
 "nbformat_minor": 2
}
