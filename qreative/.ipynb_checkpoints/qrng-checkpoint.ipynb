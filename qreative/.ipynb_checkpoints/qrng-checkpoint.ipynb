{
 "cells": [
  {
   "cell_type": "code",
   "execution_count": 1,
   "metadata": {},
   "outputs": [],
   "source": [
    "from qiskit import QuantumRegister, ClassicalRegister\n",
    "from qiskit import QuantumCircuit, IBMQ, execute, compile\n",
    "\n",
    "IBMQ.load_accounts()\n",
    "\n",
    "q = QuantumRegister(1)\n",
    "c = ClassicalRegister(1)\n",
    "qc = QuantumCircuit(q, c)\n",
    "\n",
    "qc.h(q)\n",
    "\n",
    "qc.measure(q,c)\n",
    "\n",
    "device = 'ibmqx4'\n",
    "backend = IBMQ.get_backend(device)\n",
    "qobj = compile(qc,backend,shots=8192,memory=True)"
   ]
  },
  {
   "cell_type": "code",
   "execution_count": 2,
   "metadata": {},
   "outputs": [],
   "source": [
    "qobj_dict = qobj.as_dict()"
   ]
  },
  {
   "cell_type": "code",
   "execution_count": 3,
   "metadata": {},
   "outputs": [],
   "source": [
    "import json"
   ]
  },
  {
   "cell_type": "code",
   "execution_count": 4,
   "metadata": {},
   "outputs": [],
   "source": [
    "qobj_json_string = json.dumps(qobj_dict)"
   ]
  },
  {
   "cell_type": "code",
   "execution_count": 5,
   "metadata": {},
   "outputs": [
    {
     "name": "stdout",
     "output_type": "stream",
     "text": [
      "{\"qobj_id\": \"81a2f8ca-51a6-4f6c-bd55-5bfbdc4f3ea1\", \"config\": {\"shots\": 8192, \"memory_slots\": 1, \"max_credits\": 10, \"memory\": true, \"n_qubits\": 1}, \"experiments\": [{\"instructions\": [{\"name\": \"u2\", \"params\": [0.0, 3.141592653589793], \"texparams\": [\"0\", \"\\\\pi\"], \"qubits\": [0], \"memory\": []}, {\"name\": \"measure\", \"params\": [], \"texparams\": [], \"qubits\": [0], \"memory\": [0]}], \"header\": {\"n_qubits\": 1, \"memory_slots\": 1, \"qubit_labels\": [[\"q0\", 0]], \"clbit_labels\": [[\"c0\", 0]], \"qreg_sizes\": [[\"q0\", 1]], \"creg_sizes\": [[\"c0\", 1]], \"name\": \"circuit0\", \"compiled_circuit_qasm\": \"OPENQASM 2.0;\\ninclude \\\"qelib1.inc\\\";\\nqreg q0[1];\\ncreg c0[1];\\nu2(0,pi) q0[0];\\nmeasure q0[0] -> c0[0];\\n\"}, \"config\": {\"memory_slots\": 1, \"n_qubits\": 1}}], \"header\": {\"backend_name\": \"ibmqx4\"}, \"type\": \"QASM\", \"schema_version\": \"1.0.0\"}\n"
     ]
    }
   ],
   "source": [
    "print(qobj_json_string)"
   ]
  },
  {
   "cell_type": "code",
   "execution_count": 6,
   "metadata": {},
   "outputs": [],
   "source": [
    "token = IBMQ.active_accounts()[0]['token']\n",
    "url = IBMQ.active_accounts()[0]['url']"
   ]
  },
  {
   "cell_type": "code",
   "execution_count": 7,
   "metadata": {},
   "outputs": [],
   "source": [
    "config = IBMQ.active_accounts()[0]"
   ]
  },
  {
   "cell_type": "code",
   "execution_count": 8,
   "metadata": {},
   "outputs": [],
   "source": [
    "import requests"
   ]
  },
  {
   "cell_type": "code",
   "execution_count": 9,
   "metadata": {},
   "outputs": [],
   "source": [
    "response = requests.post(str(url + \"/users/loginWithToken\"),data={'apiToken': token})"
   ]
  },
  {
   "cell_type": "code",
   "execution_count": 10,
   "metadata": {},
   "outputs": [],
   "source": [
    "resp_dict = response.json()"
   ]
  },
  {
   "cell_type": "code",
   "execution_count": 11,
   "metadata": {},
   "outputs": [],
   "source": [
    "id = resp_dict['id']"
   ]
  },
  {
   "cell_type": "code",
   "execution_count": null,
   "metadata": {},
   "outputs": [],
   "source": []
  },
  {
   "cell_type": "code",
   "execution_count": 13,
   "metadata": {},
   "outputs": [],
   "source": [
    "data = {'qObject': qobj_dict,'backend': {'name':device}}"
   ]
  },
  {
   "cell_type": "code",
   "execution_count": 14,
   "metadata": {},
   "outputs": [
    {
     "name": "stdout",
     "output_type": "stream",
     "text": [
      "https://quantumexperience.ng.bluemix.net/api/Jobs?access_token=H42cCvYa9hHZZ1RVZwVihuRJNJAJCFCCNxoAAYtO9R8inBmQ6IH2vAGOwDvcXk9M\n"
     ]
    }
   ],
   "source": [
    "job_url = url+'/Jobs?access_token='+id\n",
    "print(job_url)"
   ]
  },
  {
   "cell_type": "code",
   "execution_count": 15,
   "metadata": {},
   "outputs": [
    {
     "name": "stdout",
     "output_type": "stream",
     "text": [
      "{\"qObject\": {\"qobj_id\": \"81a2f8ca-51a6-4f6c-bd55-5bfbdc4f3ea1\", \"config\": {\"shots\": 8192, \"memory_slots\": 1, \"max_credits\": 10, \"memory\": true, \"n_qubits\": 1}, \"experiments\": [{\"instructions\": [{\"name\": \"u2\", \"params\": [0.0, 3.141592653589793], \"texparams\": [\"0\", \"\\\\pi\"], \"qubits\": [0], \"memory\": []}, {\"name\": \"measure\", \"params\": [], \"texparams\": [], \"qubits\": [0], \"memory\": [0]}], \"header\": {\"n_qubits\": 1, \"memory_slots\": 1, \"qubit_labels\": [[\"q0\", 0]], \"clbit_labels\": [[\"c0\", 0]], \"qreg_sizes\": [[\"q0\", 1]], \"creg_sizes\": [[\"c0\", 1]], \"name\": \"circuit0\", \"compiled_circuit_qasm\": \"OPENQASM 2.0;\\ninclude \\\"qelib1.inc\\\";\\nqreg q0[1];\\ncreg c0[1];\\nu2(0,pi) q0[0];\\nmeasure q0[0] -> c0[0];\\n\"}, \"config\": {\"memory_slots\": 1, \"n_qubits\": 1}}], \"header\": {\"backend_name\": \"ibmqx4\"}, \"type\": \"QASM\", \"schema_version\": \"1.0.0\"}, \"backend\": {\"name\": \"ibmqx4\"}}\n"
     ]
    }
   ],
   "source": [
    "print(json.dumps(data))"
   ]
  },
  {
   "cell_type": "code",
   "execution_count": 16,
   "metadata": {},
   "outputs": [],
   "source": [
    "job = requests.post(job_url, data=json.dumps(data),headers={'Content-Type': 'application/json'})"
   ]
  },
  {
   "cell_type": "code",
   "execution_count": 17,
   "metadata": {},
   "outputs": [
    {
     "name": "stdout",
     "output_type": "stream",
     "text": [
      "{'qasms': [{'status': 'WORKING_IN_PROGRESS', 'executionId': '5c53752b1bc0bf0054a4dddc'}], 'qObject': {'qobj_id': '81a2f8ca-51a6-4f6c-bd55-5bfbdc4f3ea1', 'config': {'shots': 8192, 'memory_slots': 1, 'max_credits': 10, 'memory': True, 'n_qubits': 1}, 'experiments': [{'instructions': [{'name': 'u2', 'params': [0, 3.141592653589793], 'texparams': ['0', '\\\\pi'], 'qubits': [0], 'memory': []}, {'name': 'measure', 'params': [], 'texparams': [], 'qubits': [0], 'memory': [0]}], 'header': {'n_qubits': 1, 'memory_slots': 1, 'qubit_labels': [['q0', 0]], 'clbit_labels': [['c0', 0]], 'qreg_sizes': [['q0', 1]], 'creg_sizes': [['c0', 1]], 'name': 'circuit0', 'compiled_circuit_qasm': 'OPENQASM 2.0;\\ninclude \"qelib1.inc\";\\nqreg q0[1];\\ncreg c0[1];\\nu2(0,pi) q0[0];\\nmeasure q0[0] -> c0[0];\\n'}, 'config': {'memory_slots': 1, 'n_qubits': 1}}], 'header': {'backend_name': 'ibmqx4'}, 'type': 'QASM', 'schema_version': '1.0.0'}, 'kind': 'q-object', 'shots': 8192, 'backend': {'id': '5ae875670f020500393162b3', 'name': 'ibmqx4'}, 'status': 'RUNNING', 'maxCredits': 10, 'usedCredits': 3, 'creationDate': '2019-01-31T22:22:35.239Z', 'deleted': False, 'id': '5c53752b1bc0bf0054a4dddb', 'userId': '5ae874af0f0205003931513f', 'infoQueue': {'status': 'PENDING_IN_QUEUE', 'position': 9}}\n"
     ]
    }
   ],
   "source": [
    "stuff = job.json()\n"
   ]
  },
  {
   "cell_type": "code",
   "execution_count": 18,
   "metadata": {},
   "outputs": [],
   "source": [
    "job_id = stuff['id']"
   ]
  },
  {
   "cell_type": "code",
   "execution_count": 19,
   "metadata": {},
   "outputs": [
    {
     "data": {
      "text/plain": [
       "'https://quantumexperience.ng.bluemix.net/api/Jobs/5c53752b1bc0bf0054a4dddb?access_token=H42cCvYa9hHZZ1RVZwVihuRJNJAJCFCCNxoAAYtO9R8inBmQ6IH2vAGOwDvcXk9M'"
      ]
     },
     "execution_count": 19,
     "metadata": {},
     "output_type": "execute_result"
    }
   ],
   "source": [
    "url+'/Jobs/'+job_id+'?access_token='+id"
   ]
  },
  {
   "cell_type": "code",
   "execution_count": null,
   "metadata": {},
   "outputs": [],
   "source": []
  }
 ],
 "metadata": {
  "kernelspec": {
   "display_name": "Python 3",
   "language": "python",
   "name": "python3"
  },
  "language_info": {
   "codemirror_mode": {
    "name": "ipython",
    "version": 3
   },
   "file_extension": ".py",
   "mimetype": "text/x-python",
   "name": "python",
   "nbconvert_exporter": "python",
   "pygments_lexer": "ipython3",
   "version": "3.7.0"
  }
 },
 "nbformat": 4,
 "nbformat_minor": 2
}
