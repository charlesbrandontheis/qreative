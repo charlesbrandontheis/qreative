{
 "cells": [
  {
   "cell_type": "code",
   "execution_count": 1,
   "metadata": {},
   "outputs": [],
   "source": [
    "def get_backend(device):\n",
    "    \"\"\"Returns backend object for device specified by input string.\"\"\"\n",
    "    try:\n",
    "        backend = Aer.get_backend(device)\n",
    "    except:\n",
    "        backend = IBMQ.get_backend(device)\n",
    "    return backend"
   ]
  },
  {
   "cell_type": "code",
   "execution_count": 2,
   "metadata": {},
   "outputs": [],
   "source": [
    "def get_noise(noisy):\n",
    "    \"\"\"Returns a noise model when input is True\"\"\"\n",
    "    if noisy:\n",
    "        \n",
    "        if type(noisy) is float:\n",
    "            p_meas = noisy\n",
    "            p_gate1 = noisy\n",
    "        else:\n",
    "            p_meas = 0.08\n",
    "            p_gate1 = 0.04\n",
    "\n",
    "        error_meas = pauli_error([('X',p_meas), ('I', 1 - p_meas)])\n",
    "        error_gate1 = depolarizing_error(p_gate1, 1)\n",
    "        error_gate2 = error_gate1.kron(error_gate1)\n",
    "        \n",
    "        noise_model = NoiseModel()\n",
    "        noise_model.add_all_qubit_quantum_error(error_meas, \"measure\")\n",
    "        noise_model.add_all_qubit_quantum_error(error_gate1, [\"u1\", \"u2\", \"u3\"])\n",
    "        noise_model.add_all_qubit_quantum_error(error_gate2, [\"cx\"])\n",
    "    else:\n",
    "        noise_model = None\n",
    "    return noise_model"
   ]
  },
  {
   "cell_type": "code",
   "execution_count": 3,
   "metadata": {},
   "outputs": [],
   "source": [
    "from qiskit import IBMQ\n",
    "IBMQ.load_accounts()"
   ]
  },
  {
   "cell_type": "code",
   "execution_count": 4,
   "metadata": {},
   "outputs": [],
   "source": [
    "from qiskit import ClassicalRegister, QuantumRegister, QuantumCircuit, execute, Aer, IBMQ, compile\n",
    "import copy\n",
    "import numpy as np\n",
    "\n",
    "class random_grid ():\n",
    "    \n",
    "        def __init__(self,Lx,Ly):\n",
    "        \n",
    "            self.Lx = Lx\n",
    "            self.Ly = Ly\n",
    "        \n",
    "            self.qr = QuantumRegister(Lx*Ly)\n",
    "            self.cr = ClassicalRegister(Lx*Ly)\n",
    "            self.qc = QuantumCircuit(self.qr,self.cr)\n",
    "            \n",
    "        def _address(self,x,y):\n",
    "            return y*self.Lx + x\n",
    "        \n",
    "        def neighbours(self,x,y):\n",
    "            neighbours = []\n",
    "            for (xx,yy) in [(x+1,y),(x-1,y),(x,y+1),(x,y-1)]:\n",
    "                if (xx>=0) and (xx<=self.Lx-1) and (yy>=0) and (yy<=self.Ly-1):\n",
    "                    neighbours.append( (xx,yy) )\n",
    "            return neighbours\n",
    "                \n",
    "        def get_samples(self,device='qasm_simulator',noisy=False,shots=1024):\n",
    "            \n",
    "            def separate_string(string):\n",
    "                string = string[::-1]\n",
    "                grid = []\n",
    "                for y in range(self.Ly):\n",
    "                    line = ''\n",
    "                    for x in range(self.Lx):\n",
    "                        line += string[self._address(x,y)]\n",
    "                    grid.append(line)\n",
    "                return '\\n'.join(grid)\n",
    "            \n",
    "            temp_qc = copy.deepcopy(self.qc)\n",
    "            temp_qc.barrier(self.qr)\n",
    "            temp_qc.measure(self.qr,self.cr)\n",
    "            try:\n",
    "                job = execute(temp_qc,backend=get_backend(device),noise_model=get_noise(noisy),shots=shots,memory=True)\n",
    "            except:\n",
    "                job = execute(temp_qc,backend=get_backend(device),shots=shots,memory=True)\n",
    "            \n",
    "            try:\n",
    "                data = job.result().get_memory()\n",
    "                grid_data = []\n",
    "                for string in data:\n",
    "                    grid_data.append(separate_string(string))\n",
    "            except:\n",
    "                grid_data = None\n",
    "                \n",
    "            stats = job.result().get_counts()\n",
    "            grid_stats = {}\n",
    "            for string in stats:\n",
    "                grid_stats[separate_string(string)] = stats[string]\n",
    "                \n",
    "            return grid_stats, grid_data\n",
    "        \n",
    "        def NOT (self,coords,frac=1,axis='x'):\n",
    "            '''Implement an rx or ry on the qubit for the given coords, according to the given fraction (`frac=1` is a NOT gate) and the given axis ('x' or 'y').'''\n",
    "            if axis=='x':\n",
    "                self.qc.rx(np.pi*frac,self.qr[self._address(coords[0],coords[1])])\n",
    "            else:\n",
    "                self.qc.ry(np.pi*frac,self.qr[self._address(coords[0],coords[1])])\n",
    "            \n",
    "        def CNOT (self,ctl,tgt,frac=1,axis='x'):\n",
    "            '''Controlled version of the `NOT` above'''\n",
    "            if axis=='y':\n",
    "                self.qc.sdg(self.qr[self._address(tgt[0],tgt[1])])\n",
    "            self.qc.h(self.qr[self._address(tgt[0],tgt[1])])\n",
    "            self.qc.crz(np.pi*frac,self.qr[self._address(ctl[0],ctl[1])],self.qr[self._address(tgt[0],tgt[1])])\n",
    "            self.qc.h(self.qr[self._address(tgt[0],tgt[1])])\n",
    "            if axis=='y':\n",
    "                self.qc.s(self.qr[self._address(tgt[0],tgt[1])])\n",
    "    "
   ]
  },
  {
   "cell_type": "code",
   "execution_count": null,
   "metadata": {},
   "outputs": [],
   "source": []
  },
  {
   "cell_type": "code",
   "execution_count": 5,
   "metadata": {},
   "outputs": [
    {
     "name": "stdout",
     "output_type": "stream",
     "text": [
      "00\n",
      "01 \n",
      "\n",
      "10\n",
      "01 \n",
      "\n",
      "00\n",
      "01 \n",
      "\n",
      "00\n",
      "01 \n",
      "\n",
      "10\n",
      "01 \n",
      "\n"
     ]
    }
   ],
   "source": [
    "grid = random_grid(2,2)\n",
    "grid.NOT((1,1),frac=1)\n",
    "grid.CNOT((1,1),(0,0),frac=0.5)\n",
    "\n",
    "grid_stats,grid_data = grid.get_samples(shots=5)#,device='ibmqx4')\n",
    "for sample in grid_data:\n",
    "    print(sample,'\\n')"
   ]
  },
  {
   "cell_type": "code",
   "execution_count": null,
   "metadata": {},
   "outputs": [],
   "source": []
  },
  {
   "cell_type": "code",
   "execution_count": null,
   "metadata": {},
   "outputs": [],
   "source": []
  }
 ],
 "metadata": {
  "kernelspec": {
   "display_name": "Python 3",
   "language": "python",
   "name": "python3"
  },
  "language_info": {
   "codemirror_mode": {
    "name": "ipython",
    "version": 3
   },
   "file_extension": ".py",
   "mimetype": "text/x-python",
   "name": "python",
   "nbconvert_exporter": "python",
   "pygments_lexer": "ipython3",
   "version": "3.7.0"
  }
 },
 "nbformat": 4,
 "nbformat_minor": 2
}
