{
 "cells": [
  {
   "cell_type": "code",
   "execution_count": 7,
   "metadata": {},
   "outputs": [
    {
     "data": {
      "text/markdown": [
       "# Creative Quantumness\n",
       "\n",
       "The `qreative` package is a set of tools to use quantum computers for creative projects. It is built on the [Qiskit](https://qiskit.org) framework for quantum programming. The jobs created using `qreative` can be run on simulators, or on IBM's prototype quantum processors.\n",
       "\n",
       "For how to use, see the [tutorials](tutorials/README.md).\n",
       "\n",
       "You are encouraged to not just use these tools, but also get inside the code and play around with them. For that reason, our aim is to make the code very well commented to help you understand what it all does. If you have any requests on what to comment better, make a request [here](https://github.com/quantumjim/qreative/issues/new).\n",
       "\n",
       "If you want to pip install, [download this repository](https://github.com/quantumjim/qreative/archive/master.zip) and unzip to get the 'qreative-master' folder. Then navigate to the folder that contains qreative-master via command line, and run the following\n",
       "\n",
       "    pip install -e qreative-master\n",
       "    \n",
       "    \n"
      ],
      "text/plain": [
       "<IPython.core.display.Markdown object>"
      ]
     },
     "metadata": {},
     "output_type": "display_data"
    }
   ],
   "source": [
    "from IPython.display import display, Markdown\n",
    "with open('readme.md', 'r') as readme: content = readme.read(); display(Markdown(content))"
   ]
  }
 ],
 "metadata": {
  "kernelspec": {
   "display_name": "Python 3",
   "language": "python",
   "name": "python3"
  },
  "language_info": {
   "codemirror_mode": {
    "name": "ipython",
    "version": 3
   },
   "file_extension": ".py",
   "mimetype": "text/x-python",
   "name": "python",
   "nbconvert_exporter": "python",
   "pygments_lexer": "ipython3",
   "version": "3.7.0"
  }
 },
 "nbformat": 4,
 "nbformat_minor": 2
}
